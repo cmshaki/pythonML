{
 "cells": [
  {
   "cell_type": "code",
   "execution_count": 1,
   "metadata": {},
   "outputs": [],
   "source": [
    "# Panda and Numpy\n",
    "import pandas as pd\n",
    "import numpy as np"
   ]
  },
  {
   "cell_type": "code",
   "execution_count": 2,
   "metadata": {},
   "outputs": [],
   "source": [
    "# Selenium\n",
    "from selenium.webdriver import Chrome\n",
    "from selenium.webdriver.chrome.options import Options\n",
    "from selenium.webdriver.support.ui import WebDriverWait"
   ]
  },
  {
   "cell_type": "code",
   "execution_count": 3,
   "metadata": {},
   "outputs": [],
   "source": [
    "# Beautiful Soup\n",
    "from bs4 import BeautifulSoup"
   ]
  },
  {
   "cell_type": "code",
   "execution_count": 4,
   "metadata": {},
   "outputs": [],
   "source": [
    "# Matplotlib inculding magic function used by iPython/Jupyter\n",
    "import matplotlib.pyplot as plt\n",
    "%matplotlib inline"
   ]
  },
  {
   "cell_type": "code",
   "execution_count": 5,
   "metadata": {
    "scrolled": true
   },
   "outputs": [
    {
     "data": {
      "text/plain": [
       "True"
      ]
     },
     "execution_count": 5,
     "metadata": {},
     "output_type": "execute_result"
    }
   ],
   "source": [
    "# Chrome Options\n",
    "chrome_options = Options()\n",
    "#chrome_options.add_argument(\"--disable-extensions\")\n",
    "#chrome_options.add_argument(\"--disable-gpu\")\n",
    "chrome_options.add_argument(\"--headless\")\n",
    "\n",
    "# Turn options\n",
    "capabilities = chrome_options.to_capabilities()\n",
    "\n",
    "# URL\n",
    "url = \"https://www.google.com/travel/explore?tfc=ciIKDgoMCggvbS8wNWQ0ORAEEg4KDAoIL20vMDJqOXoQBiAAciIKDgoMCggvbS8wMmo5ehAGEg4KDAoIL20vMDVkNDkQBCAAGAEqAhACMAE6AggB\"\n",
    "\n",
    "#Desired Capabilities stored in a dictionary\n",
    "dcap = dict(capabilities)\n",
    "dcap[\"chrome.page.settings.userAgent\"] = (\"Mozilla/5.0 (Windows NT 10.0; Win64; x64) AppleWebKit/537.36 (KHTML, like Gecko) Chrome/78.0.3904.108 Safari/537.36\")    \n",
    "\n",
    "# Fire up the webdriver\n",
    "driver = Chrome(desired_capabilities=dcap,service_args=[\"--ignore-ssl-errors=true\"])\n",
    "driver.implicitly_wait(20)\n",
    "driver.set_window_position(0, 0)\n",
    "driver.set_window_size(1366, 768)\n",
    "driver.get(url)\n",
    "\n",
    "# Check if cities elements have been created\n",
    "def cities_prices_elements(driver):\n",
    "    return driver.find_elements_by_css_selector(\".NLAKyb.pJYzRb\")\n",
    "\n",
    "WebDriverWait(driver, timeout=120).until(cities_prices_elements)\n",
    "driver.save_screenshot(r'flight_explorer.png')"
   ]
  },
  {
   "cell_type": "code",
   "execution_count": 6,
   "metadata": {},
   "outputs": [
    {
     "name": "stdout",
     "output_type": "stream",
     "text": [
      "Beautiful Soup has successfully parsed the html document\n"
     ]
    }
   ],
   "source": [
    "# Beautiful Soup to parse the Selenium Page\n",
    "s = BeautifulSoup(driver.page_source, \"html.parser\")\n",
    "if s:\n",
    "    print('Beautiful Soup has successfully parsed the html document')"
   ]
  },
  {
   "cell_type": "code",
   "execution_count": 9,
   "metadata": {},
   "outputs": [
    {
     "data": {
      "text/plain": [
       "{'Washington, D.C.': 75920,\n",
       " 'Rome': 67160,\n",
       " 'New York': 76345,\n",
       " 'London': 71320,\n",
       " 'Boston': 76105,\n",
       " 'Berlin': 77520,\n",
       " 'Amsterdam': 65230,\n",
       " 'Paris': 66705,\n",
       " 'Milan': 72140,\n",
       " 'Brussels': 64520,\n",
       " 'Cairo': 50470,\n",
       " 'Cape Town': 54980,\n",
       " 'Helsinki': 79625,\n",
       " 'Manchester': 82830,\n",
       " 'Bangkok': 81280,\n",
       " 'Chicago': 90435,\n",
       " 'Vancouver': 143245,\n",
       " 'Geneva': 62735,\n",
       " 'San Francisco': 136415,\n",
       " 'Los Angeles': 113480,\n",
       " 'Atlanta': 104685,\n",
       " 'Frankfurt': 67945,\n",
       " 'Johannesburg': 41575,\n",
       " 'Dallas': 100770,\n",
       " 'Singapore': 93490,\n",
       " 'Tokyo': 100310,\n",
       " 'Dubai': 63690,\n",
       " 'Stockholm': 68570,\n",
       " 'Zürich': 72490,\n",
       " 'Mount Kilimanjaro': 34645,\n",
       " 'Kuala Lumpur': 83945,\n",
       " 'Seattle': 141540,\n",
       " 'Entebbe': 22800,\n",
       " 'Athens': 80390,\n",
       " 'Toronto': 114760,\n",
       " 'Melbourne': 170935,\n",
       " 'Mexico City': 165360,\n",
       " 'Guangzhou': 73465,\n",
       " 'Calgary': 143670,\n",
       " 'Hong Kong': 100615,\n",
       " 'New Delhi': 75400,\n",
       " 'Sydney': 185845,\n",
       " 'Mombasa': 11760,\n",
       " 'Havana': 123820,\n",
       " 'Miami': 134960,\n",
       " 'Mauritius Island': 92105,\n",
       " 'İstanbul': 95165,\n",
       " 'Mumbai': 88415,\n",
       " 'Houston': 130665,\n",
       " 'Kigali': 35195,\n",
       " 'Zanzibar City': 41245,\n",
       " 'Minneapolis': 108555,\n",
       " 'Kisumu': 11760,\n",
       " 'Nashville': 104470,\n",
       " 'Cleveland': 119095,\n",
       " 'Antananarivo': 110285,\n",
       " 'Dar es Salaam': 39265,\n",
       " 'Malé': 190990,\n",
       " 'Addis Ababa': 50480,\n",
       " 'Kansas City': 112720,\n",
       " 'Lagos': 73355,\n",
       " 'Mogadishu': 176865,\n",
       " 'Doha': 81625,\n",
       " 'Abu Dhabi': 143960,\n",
       " 'Mamoudzou': 108985,\n",
       " 'Livingstone': 53950,\n",
       " 'Pemba': 359595,\n",
       " 'Mahé': 138320}"
      ]
     },
     "execution_count": 9,
     "metadata": {},
     "output_type": "execute_result"
    }
   ],
   "source": [
    "# Get Fares Tags\n",
    "cities = s.findAll('div', 'WuT5Gd')\n",
    "all_cities = dict()\n",
    "\n",
    "for city in cities:\n",
    "    name = city.find('div', 'czmTnd tdMWuf')\n",
    "    price = city.find('div', 'NLAKyb pJYzRb')\n",
    "    if price.text and name.text:\n",
    "        all_cities[name.text] = int(price.text.replace('KES','').replace(',',''))\n",
    "\n",
    "# europe_prices_tag\n",
    "# all_europe_prices[europe_city_names] = europe_prices_tag\n",
    "all_cities"
   ]
  },
  {
   "cell_type": "code",
   "execution_count": 12,
   "metadata": {},
   "outputs": [],
   "source": [
    "fares = pd.DataFrame.from_dict(all_cities, orient='index', columns=['Price'])"
   ]
  },
  {
   "cell_type": "code",
   "execution_count": 13,
   "metadata": {
    "scrolled": true
   },
   "outputs": [
    {
     "data": {
      "text/html": [
       "<div>\n",
       "<style scoped>\n",
       "    .dataframe tbody tr th:only-of-type {\n",
       "        vertical-align: middle;\n",
       "    }\n",
       "\n",
       "    .dataframe tbody tr th {\n",
       "        vertical-align: top;\n",
       "    }\n",
       "\n",
       "    .dataframe thead th {\n",
       "        text-align: right;\n",
       "    }\n",
       "</style>\n",
       "<table border=\"1\" class=\"dataframe\">\n",
       "  <thead>\n",
       "    <tr style=\"text-align: right;\">\n",
       "      <th></th>\n",
       "      <th>Price</th>\n",
       "    </tr>\n",
       "  </thead>\n",
       "  <tbody>\n",
       "    <tr>\n",
       "      <th>Washington, D.C.</th>\n",
       "      <td>75920</td>\n",
       "    </tr>\n",
       "    <tr>\n",
       "      <th>Rome</th>\n",
       "      <td>67160</td>\n",
       "    </tr>\n",
       "    <tr>\n",
       "      <th>New York</th>\n",
       "      <td>76345</td>\n",
       "    </tr>\n",
       "    <tr>\n",
       "      <th>London</th>\n",
       "      <td>71320</td>\n",
       "    </tr>\n",
       "    <tr>\n",
       "      <th>Boston</th>\n",
       "      <td>76105</td>\n",
       "    </tr>\n",
       "    <tr>\n",
       "      <th>...</th>\n",
       "      <td>...</td>\n",
       "    </tr>\n",
       "    <tr>\n",
       "      <th>Abu Dhabi</th>\n",
       "      <td>143960</td>\n",
       "    </tr>\n",
       "    <tr>\n",
       "      <th>Mamoudzou</th>\n",
       "      <td>108985</td>\n",
       "    </tr>\n",
       "    <tr>\n",
       "      <th>Livingstone</th>\n",
       "      <td>53950</td>\n",
       "    </tr>\n",
       "    <tr>\n",
       "      <th>Pemba</th>\n",
       "      <td>359595</td>\n",
       "    </tr>\n",
       "    <tr>\n",
       "      <th>Mahé</th>\n",
       "      <td>138320</td>\n",
       "    </tr>\n",
       "  </tbody>\n",
       "</table>\n",
       "<p>68 rows × 1 columns</p>\n",
       "</div>"
      ],
      "text/plain": [
       "                   Price\n",
       "Washington, D.C.   75920\n",
       "Rome               67160\n",
       "New York           76345\n",
       "London             71320\n",
       "Boston             76105\n",
       "...                  ...\n",
       "Abu Dhabi         143960\n",
       "Mamoudzou         108985\n",
       "Livingstone        53950\n",
       "Pemba             359595\n",
       "Mahé              138320\n",
       "\n",
       "[68 rows x 1 columns]"
      ]
     },
     "execution_count": 13,
     "metadata": {},
     "output_type": "execute_result"
    }
   ],
   "source": [
    "fares"
   ]
  },
  {
   "cell_type": "code",
   "execution_count": 18,
   "metadata": {},
   "outputs": [
    {
     "data": {
      "text/plain": [
       "<matplotlib.collections.PathCollection at 0x16b088aeaf0>"
      ]
     },
     "execution_count": 18,
     "metadata": {},
     "output_type": "execute_result"
    },
    {
     "data": {
      "image/png": "[encoded data removed]",
      "text/plain": [
       "<Figure size 720x432 with 1 Axes>"
      ]
     },
     "metadata": {
      "needs_background": "light"
     },
     "output_type": "display_data"
    }
   ],
   "source": [
    "fig, ax = plt.subplots(figsize=(10,6))\n",
    "fares['Price']\n",
    "plt.scatter(np.arange(len(fares)), fares['Price'])"
   ]
  },
  {
   "cell_type": "code",
   "execution_count": 19,
   "metadata": {},
   "outputs": [],
   "source": [
    "px = [x for x in fares['Price']]\n",
    "ff = pd.DataFrame(px, columns=['fare'])"
   ]
  },
  {
   "cell_type": "code",
   "execution_count": 20,
   "metadata": {},
   "outputs": [],
   "source": [
    "from sklearn.cluster import DBSCAN\n",
    "from sklearn.preprocessing import StandardScaler"
   ]
  },
  {
   "cell_type": "code",
   "execution_count": null,
   "metadata": {},
   "outputs": [],
   "source": []
  }
 ],
 "metadata": {
  "kernelspec": {
   "display_name": "Python 3",
   "language": "python",
   "name": "python3"
  },
  "language_info": {
   "codemirror_mode": {
    "name": "ipython",
    "version": 3
   },
   "file_extension": ".py",
   "mimetype": "text/x-python",
   "name": "python",
   "nbconvert_exporter": "python",
   "pygments_lexer": "ipython3",
   "version": "3.8.3"
  }
 },
 "nbformat": 4,
 "nbformat_minor": 2
}
